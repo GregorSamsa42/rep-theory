{
 "cells": [
  {
   "cell_type": "code",
   "execution_count": 84,
   "id": "56ab56b7-744c-4ab2-ab1f-96b6fff8b947",
   "metadata": {},
   "outputs": [],
   "source": [
    "import numpy\n",
    "G = SymmetricGroup(4)\n",
    "e = G.exponent()\n",
    "\n",
    "# find the correct prime p for which we can translate the problem into Z/pZ for\n",
    "def find_dixon_prime(e,G):\n",
    "    candidate = next_prime(ceil(2*sqrt(G.order())))\n",
    "    while (candidate % e != 1):\n",
    "        candidate = next_prime(candidate+1)\n",
    "    return candidate\n",
    "    \n",
    "p = find_dixon_prime(e,G)\n",
    "F.<a> = FiniteField(p) # will work over field F = Z/pZ"
   ]
  },
  {
   "cell_type": "code",
   "execution_count": 82,
   "id": "9a3cd093-8f21-4b9f-9286-20f91fcb67fc",
   "metadata": {},
   "outputs": [],
   "source": [
    "# refer to Dixon's 1967 High Speed Computation of Group Characters paper for notation and implementation details\n",
    "\n",
    "class DixonCharacterTable:\n",
    "    def structure_constants(self,G):\n",
    "        # method computing the structure constants of a group, i.e. a_rst is the number of pairs (x,y) in the conjugacy classes r and s such\n",
    "        # that their product is in the conjugacy class t.\n",
    "\n",
    "        # initialise empty dictionary\n",
    "        result = {(i,j):([0]*self.classes_amount) for i in range(0,self.classes_amount) for j in range(0,self.classes_amount)}\n",
    "        \n",
    "        for i in range(0,self.classes_amount):\n",
    "            for g in self.classes[i]:\n",
    "                for j in range(0,self.classes_amount):\n",
    "                    for h in self.classes[j]:\n",
    "                        for k in range(0,self.classes_amount):\n",
    "                            if g*h in self.classes[k]:\n",
    "                                result[(i,j)][k] += 1\n",
    "        return result\n",
    "        \n",
    "    def __init__(self, G):\n",
    "        # initialise important data that will be used often during the computations\n",
    "\n",
    "        # create a list of all conjugacy classes and their amount k\n",
    "        self.classes = list(G.conjugacy_classes())\n",
    "        self.classes_amount = len(self.classes)\n",
    "        \n",
    "        # compute the sizes of their classes, then in the notation of Dixon (1967) have h_j = class_sizes[j]\n",
    "        self.class_sizes = [G.order() / G.centralizer(C.representative()).order() for C in self.classes]\n",
    "\n",
    "        # compute the inverse class for each class, in Dixon (1967) have j' = inverse_class[j]\n",
    "        # this is O(n^2) if we can hash conjugacy classes, but this isn't possible in sage\n",
    "        # so it is O(nk^2)\n",
    "        self.inverse_class = []\n",
    "        for i in range(0,self.classes_amount):\n",
    "            rep = self.classes[i].representative()\n",
    "            inverse = rep.inverse()\n",
    "            # compute which class contains the inverse\n",
    "            for idx, cls in enumerate(self.classes,1):\n",
    "                if inverse in cls:\n",
    "                    self.inverse_class.append(idx)\n",
    "                    break\n",
    "\n",
    "        # initialise class matrices M_1, ..., M_k\n",
    "        # computing all structure constants can be done in O(n^3)\n",
    "        self.structure_constants = self.structure_constants(G)\n",
    "        self.class_matrices = [matrix(ZZ, self.classes_amount, self.classes_amount, lambda x,y: self.structure_constants[(i,x)][y]) for i in range(0,self.classes_amount)]\n",
    "                    "
   ]
  },
  {
   "cell_type": "code",
   "execution_count": 83,
   "id": "f1d6c7dc-96a5-41a9-8ee1-913f09829ad2",
   "metadata": {},
   "outputs": [
    {
     "name": "stdout",
     "output_type": "stream",
     "text": [
      "[[1 0 0 0 0]\n",
      "[0 6 0 0 0]\n",
      "[0 0 3 0 0]\n",
      "[0 0 0 8 0]\n",
      "[0 0 0 0 6], [ 0  6  0  0  0]\n",
      "[ 6  0  6 24  0]\n",
      "[ 0  6  0  0 12]\n",
      "[ 0 24  0  0 24]\n",
      "[ 0  0 12 24  0], [ 0  0  3  0  0]\n",
      "[ 0  6  0  0 12]\n",
      "[ 3  0  6  0  0]\n",
      "[ 0  0  0 24  0]\n",
      "[ 0 12  0  0  6], [ 0  0  0  8  0]\n",
      "[ 0 24  0  0 24]\n",
      "[ 0  0  0 24  0]\n",
      "[ 8  0 24 32  0]\n",
      "[ 0 24  0  0 24], [ 0  0  0  0  6]\n",
      "[ 0  0 12 24  0]\n",
      "[ 0 12  0  0  6]\n",
      "[ 0 24  0  0 24]\n",
      "[ 6  0  6 24  0]]\n"
     ]
    }
   ],
   "source": [
    "D = DixonCharacterTable(G)\n",
    "print(D.class_matrices)"
   ]
  },
  {
   "cell_type": "code",
   "execution_count": null,
   "id": "c997134a-8a87-484c-98bb-59a782b34a5e",
   "metadata": {},
   "outputs": [],
   "source": []
  }
 ],
 "metadata": {
  "kernelspec": {
   "display_name": "SageMath 10.4",
   "language": "sage",
   "name": "sagemath-dev"
  },
  "language_info": {
   "codemirror_mode": {
    "name": "ipython",
    "version": 3
   },
   "file_extension": ".py",
   "mimetype": "text/x-python",
   "name": "python",
   "nbconvert_exporter": "python",
   "pygments_lexer": "ipython3",
   "version": "3.12.7"
  }
 },
 "nbformat": 4,
 "nbformat_minor": 5
}
