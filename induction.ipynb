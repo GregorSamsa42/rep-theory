{
 "cells": [
  {
   "cell_type": "code",
   "execution_count": 20,
   "id": "915bee8d-0fae-4d2a-9c19-f8b46a38dc3a",
   "metadata": {},
   "outputs": [],
   "source": [
    "def induced_rep(H,G,chi):\n",
    "    \"\"\"\n",
    "    Find induced character of chi, which is a character of H, assumed to be in the order of H.conjugacy_classes()\n",
    "    \n",
    "    Parameters:\n",
    "    -----------\n",
    "    H a subgroup of G, chi a character of H\n",
    "    \n",
    "    Returns:\n",
    "    --------\n",
    "    character of G\n",
    "    \"\"\"\n",
    "    Gclasses = list(G.conjugacy_classes())\n",
    "    Hclasses = list(H.conjugacy_classes())\n",
    "    # use the formula chi(g) = sum_{[h] \\subset [g]} C_G(g)/C_H(h) chi(h)\n",
    "    induced_character = [0]*len(Gclasses)\n",
    "    for idx_g in range(0,len(G.conjugacy_classes_representatives())):\n",
    "        g = G.conjugacy_classes_representatives()[idx_g]\n",
    "        result = 0\n",
    "        for idx_h in range(0,len(H.conjugacy_classes_representatives())):\n",
    "            h = H.conjugacy_classes_representatives()[idx_h]\n",
    "            if h in Gclasses[idx_g]:\n",
    "                result += (G.centralizer(g).order())/(H.centralizer(h).order())*chi[idx_h]\n",
    "        induced_character[idx_g] = result\n",
    "    return induced_character\n",
    "\n",
    "def restricted_rep(H,G,chi):\n",
    "    \"\"\"\n",
    "    Find restricted character of chi, which is a character of G, assumed to be in the order of G.conjugacy_classes()\n",
    "    \n",
    "    Parameters:\n",
    "    -----------\n",
    "    H a subgroup of G, chi a character of H\n",
    "    \n",
    "    Returns:\n",
    "    --------\n",
    "    character of G\n",
    "    \"\"\"\n",
    "    Gclasses = list(G.conjugacy_classes())\n",
    "    Hclasses = list(H.conjugacy_classes())\n",
    "    # use the formula chi(g) = sum_{[h] \\subset [g]} C_G(g)/C_H(h) chi(h)\n",
    "    restricted_character = [0]*len(Hclasses)\n",
    "    for idx_h in range(0,len(H.conjugacy_classes_representatives())):\n",
    "        h = H.conjugacy_classes_representatives()[idx_h]\n",
    "        for idx_cls in range(0,len(Gclasses)):\n",
    "            if h in Gclasses[idx_cls]:\n",
    "                restricted_character[idx_h] = chi[idx_cls]\n",
    "                break\n",
    "    return restricted_character"
   ]
  },
  {
   "cell_type": "code",
   "execution_count": 21,
   "id": "c2b65fea-4445-4430-81bb-96fcc06e4253",
   "metadata": {},
   "outputs": [],
   "source": [
    "n = 7\n",
    "Sn = SymmetricGroup(n)\n",
    "Sn_minus_1_in_Sn = Sn.stabilizer(n)"
   ]
  },
  {
   "cell_type": "code",
   "execution_count": 22,
   "id": "6f012c04-024d-42d5-9f33-48686116512e",
   "metadata": {},
   "outputs": [
    {
     "name": "stdout",
     "output_type": "stream",
     "text": [
      "[8, 0, 0, -1, 0]\n",
      "[8, 0, -1]\n"
     ]
    }
   ],
   "source": [
    "print(induced_rep(Sn_minus_1_in_Sn, Sn, [2,0,-1]))\n",
    "Sn.character_table()\n",
    "print(restricted_rep(Sn_minus_1_in_Sn, Sn, [8, 0, 0, -1, 0]))"
   ]
  },
  {
   "cell_type": "code",
   "execution_count": null,
   "id": "d4db98a8-67bb-4324-bb18-c2875ea40227",
   "metadata": {},
   "outputs": [],
   "source": []
  }
 ],
 "metadata": {
  "kernelspec": {
   "display_name": "SageMath 10.4",
   "language": "sage",
   "name": "sagemath-dev"
  },
  "language_info": {
   "codemirror_mode": {
    "name": "ipython",
    "version": 3
   },
   "file_extension": ".py",
   "mimetype": "text/x-python",
   "name": "python",
   "nbconvert_exporter": "python",
   "pygments_lexer": "ipython3",
   "version": "3.12.7"
  }
 },
 "nbformat": 4,
 "nbformat_minor": 5
}
